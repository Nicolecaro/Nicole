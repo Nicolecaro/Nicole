{
  "nbformat": 4,
  "nbformat_minor": 0,
  "metadata": {
    "colab": {
      "provenance": []
    },
    "kernelspec": {
      "name": "python3",
      "display_name": "Python 3"
    },
    "language_info": {
      "name": "python"
    }
  },
  "cells": [
    {
      "cell_type": "markdown",
      "source": [
        "## Ejercicio en clase #1\n",
        "\n"
      ],
      "metadata": {
        "id": "WIY1EOUueMne"
      }
    },
    {
      "cell_type": "code",
      "source": [
        "def par_impar(a,b=2):\n",
        "\n",
        "  suma = a+b\n",
        "\n",
        "  if type (a) == int and type(b) == int:\n",
        "   if suma % 2 == 0:\n",
        "    print(f\"El número {suma} es par.\")\n",
        "   else:\n",
        "    print(f\"El número {suma} es impar.\")\n",
        "  else:\n",
        "    print(f\"Los datos integrados deben ser enteros\")"
      ],
      "metadata": {
        "id": "MRVGELYHeRsT"
      },
      "execution_count": null,
      "outputs": []
    },
    {
      "cell_type": "code",
      "source": [
        "par_impar (4,8)"
      ],
      "metadata": {
        "colab": {
          "base_uri": "https://localhost:8080/"
        },
        "id": "bmwx7hEseUto",
        "outputId": "479022c7-651d-4e35-b474-c1817c04b9fb"
      },
      "execution_count": null,
      "outputs": [
        {
          "output_type": "stream",
          "name": "stdout",
          "text": [
            "El número 12 es par.\n"
          ]
        }
      ]
    },
    {
      "cell_type": "code",
      "source": [
        "Mivariable =4 #upper camel case\n",
        "miVariable =2 #lower camel case\n",
        "mi_variable =1 #snake case"
      ],
      "metadata": {
        "id": "EMoNpyYleYyE"
      },
      "execution_count": null,
      "outputs": []
    },
    {
      "cell_type": "code",
      "source": [
        "def div_sum_entero (a, b, c):"
      ],
      "metadata": {
        "colab": {
          "base_uri": "https://localhost:8080/",
          "height": 140
        },
        "id": "7Cx0yFQxeqDv",
        "outputId": "11ee52c0-8210-4418-a7f8-fc6e58843126"
      },
      "execution_count": null,
      "outputs": [
        {
          "output_type": "error",
          "ename": "SyntaxError",
          "evalue": "ignored",
          "traceback": [
            "\u001b[0;36m  File \u001b[0;32m\"<ipython-input-5-0fb456534bb2>\"\u001b[0;36m, line \u001b[0;32m1\u001b[0m\n\u001b[0;31m    def div_sum_entero (a, b, c):\u001b[0m\n\u001b[0m                                 ^\u001b[0m\n\u001b[0;31mSyntaxError\u001b[0m\u001b[0;31m:\u001b[0m incomplete input\n"
          ]
        }
      ]
    },
    {
      "cell_type": "code",
      "source": [
        "def div_sum_entero (a, b, c):\n",
        "\n",
        "  if type (a) == int and type(b) == int and type(c) == int:\n",
        "    suma = a+b\n",
        "    if c!=0:\n",
        "      print(suma/c)\n",
        "    else:\n",
        "      print(\"No es posible ejecutar\")\n",
        "  else:\n",
        "    print(\"Todos los números deben ser enteros\")"
      ],
      "metadata": {
        "id": "YfZGqo_De0lZ"
      },
      "execution_count": null,
      "outputs": []
    },
    {
      "cell_type": "code",
      "source": [
        "div_sum_entero (6,9,3)"
      ],
      "metadata": {
        "colab": {
          "base_uri": "https://localhost:8080/"
        },
        "id": "lgOgdIhMe4ye",
        "outputId": "bc539dbf-6944-45c9-e4b2-b6928c50cc0f"
      },
      "execution_count": null,
      "outputs": [
        {
          "output_type": "stream",
          "name": "stdout",
          "text": [
            "5.0\n"
          ]
        }
      ]
    },
    {
      "cell_type": "code",
      "source": [],
      "metadata": {
        "id": "bASDiuJFe8IE"
      },
      "execution_count": null,
      "outputs": []
    }
  ]
http://localhost:8501/#d2fba151
